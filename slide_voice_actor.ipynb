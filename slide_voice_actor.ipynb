{
 "cells": [
  {
   "cell_type": "markdown",
   "metadata": {},
   "source": [
    "# 使用mac自带的TTS引擎为PPT配音\n"
   ]
  },
  {
   "cell_type": "code",
   "execution_count": 1,
   "metadata": {},
   "outputs": [],
   "source": [
    "import sys, os , subprocess\n",
    "from pptx import Presentation\n",
    "from  AppKit import NSSpeechSynthesizer\n",
    "import Foundation\n",
    "from pptx.util import Inches"
   ]
  },
  {
   "cell_type": "markdown",
   "metadata": {},
   "source": [
    "## 读取ppt中每页的注释"
   ]
  },
  {
   "cell_type": "code",
   "execution_count": 2,
   "metadata": {},
   "outputs": [],
   "source": [
    "def get_notes_text(ppt_filename):\n",
    "    prs = Presentation(ppt_filename)\n",
    "    notes_dict={}\n",
    "    for index, slide in enumerate(prs.slides):\n",
    "        notes_slide = slide.notes_slide\n",
    "        text = notes_slide.notes_text_frame.text\n",
    "        notes_dict[index]=text\n",
    "    return notes_dict"
   ]
  },
  {
   "cell_type": "markdown",
   "metadata": {},
   "source": [
    "## 将每页注释用tts转换成音频文件"
   ]
  },
  {
   "cell_type": "code",
   "execution_count": 3,
   "metadata": {},
   "outputs": [],
   "source": [
    "def save_tts(TEXT, filename):\n",
    "    nssp = NSSpeechSynthesizer\n",
    "    ve = nssp.alloc().init()\n",
    "    ve.setRate_(200)\n",
    "    url = Foundation.NSURL.fileURLWithPath_(filename)\n",
    "    ve.startSpeakingString_toURL_(TEXT,url)\n",
    "    return filename"
   ]
  },
  {
   "cell_type": "code",
   "execution_count": 4,
   "metadata": {},
   "outputs": [],
   "source": [
    "def save_notes_voice(notes_dict):\n",
    "    voice_file_dict={}\n",
    "    \n",
    "    for index, text in notes_dict.items():\n",
    "        voice_filename= \"temp_tts_{:3d}.aiff\".format(index)\n",
    "        voice_file_dict[index]=save_tts(text,voice_filename )\n",
    "    return voice_file_dict"
   ]
  },
  {
   "cell_type": "markdown",
   "metadata": {},
   "source": [
    "## 将每个音频文件插入到ppt页面中"
   ]
  },
  {
   "cell_type": "code",
   "execution_count": 5,
   "metadata": {},
   "outputs": [],
   "source": [
    "def insert_voice(voice_file_dict, ppt_filename, output_filename):\n",
    "    prs = Presentation(ppt_filename)\n",
    "    left = top = Inches(0.0)\n",
    "    width = height = Inches(1.0)\n",
    "\n",
    "    for index, slide in enumerate(prs.slides):\n",
    "        notes_slide = slide.notes_slide\n",
    "        shapes = slide.shapes\n",
    "        movie = shapes.add_movie(voice_file_dict[index], \n",
    "                                 left , top , width , height, \n",
    "                                 poster_frame_image=None, \n",
    "                                 mime_type='video/unknown')\n",
    "\n",
    "#     ppt_path=os.path.dirname(ppt_filename)\n",
    "    prs.save(output_filename)"
   ]
  },
  {
   "cell_type": "markdown",
   "metadata": {},
   "source": [
    "## 清理掉临时文件"
   ]
  },
  {
   "cell_type": "code",
   "execution_count": 6,
   "metadata": {},
   "outputs": [],
   "source": [
    "def clean_temp(voice_file_dict):\n",
    "    for index, filename in voice_file_dict.items():\n",
    "        os.remove(filename)\n",
    "    "
   ]
  },
  {
   "cell_type": "markdown",
   "metadata": {},
   "source": [
    "# 包装"
   ]
  },
  {
   "cell_type": "code",
   "execution_count": 7,
   "metadata": {},
   "outputs": [],
   "source": [
    "def main(ppt_filename, output_filename):\n",
    "    notes_dict=get_notes_text(ppt_filename)\n",
    "    voice_file_dict=save_notes_voice(notes_dict)\n",
    "    insert_voice(voice_file_dict, ppt_filename, output_filename)\n",
    "    clean_temp(voice_file_dict)"
   ]
  },
  {
   "cell_type": "code",
   "execution_count": 8,
   "metadata": {},
   "outputs": [
    {
     "ename": "NameError",
     "evalue": "name 'voice_file_dict' is not defined",
     "output_type": "error",
     "traceback": [
      "\u001b[0;31m---------------------------------------------------------------------------\u001b[0m",
      "\u001b[0;31mNameError\u001b[0m                                 Traceback (most recent call last)",
      "\u001b[0;32m<ipython-input-8-ba4618f07a89>\u001b[0m in \u001b[0;36m<module>\u001b[0;34m()\u001b[0m\n\u001b[0;32m----> 1\u001b[0;31m \u001b[0mclean_temp\u001b[0m\u001b[0;34m(\u001b[0m\u001b[0mvoice_file_dict\u001b[0m\u001b[0;34m)\u001b[0m\u001b[0;34m\u001b[0m\u001b[0m\n\u001b[0m",
      "\u001b[0;31mNameError\u001b[0m: name 'voice_file_dict' is not defined"
     ]
    }
   ],
   "source": [
    "# clean_temp(voice_file_dict)"
   ]
  },
  {
   "cell_type": "code",
   "execution_count": null,
   "metadata": {},
   "outputs": [],
   "source": [
    "if __name__==\"__main__\":\n",
    "    if len(sys.argv)>=3 :\n",
    "        ppt_filename=sys.argv[1]\n",
    "        output_filename=sys.argv[2]\n",
    "    elif len(sys.argv)==2 :\n",
    "        ppt_filename=sys.argv[1]\n",
    "        ppt_path=os.path.dirname(ppt_filename)\n",
    "        output_filename=os.path.join(ppt_path, \"output.pptx\")\n",
    "    else:\n",
    "        print(\"Error, I need input filename\")\n",
    "    main(ppt_filename, output_filename)\n"
   ]
  }
 ],
 "metadata": {
  "kernelspec": {
   "display_name": "Python 3",
   "language": "python",
   "name": "python3"
  },
  "language_info": {
   "codemirror_mode": {
    "name": "ipython",
    "version": 3
   },
   "file_extension": ".py",
   "mimetype": "text/x-python",
   "name": "python",
   "nbconvert_exporter": "python",
   "pygments_lexer": "ipython3",
   "version": "3.5.6"
  }
 },
 "nbformat": 4,
 "nbformat_minor": 2
}
