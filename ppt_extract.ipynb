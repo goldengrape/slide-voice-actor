{
 "cells": [
  {
   "cell_type": "markdown",
   "metadata": {},
   "source": [
    "读取ppt, 将ppt中的注释文字提取出来"
   ]
  },
  {
   "cell_type": "code",
   "execution_count": 11,
   "metadata": {},
   "outputs": [],
   "source": [
    "from pptx import Presentation\n",
    "import pandas as pd"
   ]
  },
  {
   "cell_type": "code",
   "execution_count": 2,
   "metadata": {},
   "outputs": [],
   "source": [
    "if __name__==\"__main__\":\n",
    "    ppt_filename=\"data/test.pptx\""
   ]
  },
  {
   "cell_type": "code",
   "execution_count": 22,
   "metadata": {},
   "outputs": [],
   "source": [
    "def get_notes_text(ppt_filename):\n",
    "    prs = Presentation(ppt_filename)\n",
    "    dict={}\n",
    "    for index, slide in enumerate(prs.slides):\n",
    "        notes_slide = slide.notes_slide\n",
    "        text = notes_slide.notes_text_frame.text\n",
    "        dict[index]=text\n",
    "    return dict"
   ]
  },
  {
   "cell_type": "markdown",
   "metadata": {},
   "source": [
    "将每个注释转换成语音"
   ]
  },
  {
   "cell_type": "code",
   "execution_count": 19,
   "metadata": {},
   "outputs": [],
   "source": [
    "from generate_voice import tts"
   ]
  },
  {
   "cell_type": "code",
   "execution_count": 27,
   "metadata": {},
   "outputs": [],
   "source": [
    "def get_notes_voice(notes_dict):\n",
    "    voice_dict={}\n",
    "    for index, text in notes_dict.items():\n",
    "        voice_dict[index]=tts(text)\n",
    "    return voice_dict"
   ]
  },
  {
   "cell_type": "markdown",
   "metadata": {},
   "source": [
    "将语音分别保存为音频mp3"
   ]
  },
  {
   "cell_type": "code",
   "execution_count": null,
   "metadata": {},
   "outputs": [],
   "source": [
    "if __name__==\"__main__\":\n",
    "\n",
    "    notes_dict=get_notes_text(ppt_filename)\n",
    "    voice_dict=get_notes_voice(notes_dict)"
   ]
  },
  {
   "cell_type": "code",
   "execution_count": 33,
   "metadata": {},
   "outputs": [],
   "source": [
    "def save_notes_voice(voice_dict):\n",
    "    temp_file_dict={}\n",
    "    for index, voice_data in voice_dict.items():\n",
    "        temp_filename=\"data/temp_{:03d}.mp3\".format(index)\n",
    "        with open(temp_filename, 'wb') as outfile:\n",
    "            outfile.write(voice_data)\n",
    "        temp_file_dict[index]=temp_filename\n",
    "    return temp_file_dict"
   ]
  },
  {
   "cell_type": "markdown",
   "metadata": {},
   "source": [
    "将音频mp3插入到每张幻灯片中, \n",
    "\n",
    "咦, 似乎卡关了. 没有找到如何将mp3插入到幻灯中的方法"
   ]
  },
  {
   "cell_type": "code",
   "execution_count": null,
   "metadata": {},
   "outputs": [],
   "source": []
  }
 ],
 "metadata": {
  "kernelspec": {
   "display_name": "Python 3",
   "language": "python",
   "name": "python3"
  },
  "language_info": {
   "codemirror_mode": {
    "name": "ipython",
    "version": 3
   },
   "file_extension": ".py",
   "mimetype": "text/x-python",
   "name": "python",
   "nbconvert_exporter": "python",
   "pygments_lexer": "ipython3",
   "version": "3.5.6"
  }
 },
 "nbformat": 4,
 "nbformat_minor": 2
}
