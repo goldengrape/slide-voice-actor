{
 "cells": [
  {
   "cell_type": "markdown",
   "metadata": {},
   "source": [
    "读取ppt, 将ppt中的注释文字提取出来"
   ]
  },
  {
   "cell_type": "code",
   "execution_count": 1,
   "metadata": {},
   "outputs": [],
   "source": [
    "from pptx import Presentation\n",
    "from generate_voice import tts\n",
    "import os\n",
    "import re\n",
    "import subprocess"
   ]
  },
  {
   "cell_type": "code",
   "execution_count": 2,
   "metadata": {},
   "outputs": [],
   "source": [
    "if __name__==\"__main__\":\n",
    "    ppt_filename=\"data/test.pptx\"\n"
   ]
  },
  {
   "cell_type": "code",
   "execution_count": 3,
   "metadata": {},
   "outputs": [],
   "source": [
    "def get_notes_text(ppt_filename):\n",
    "    prs = Presentation(ppt_filename)\n",
    "    dict={}\n",
    "    for index, slide in enumerate(prs.slides):\n",
    "        notes_slide = slide.notes_slide\n",
    "        text = notes_slide.notes_text_frame.text\n",
    "        dict[index]=text\n",
    "    return dict"
   ]
  },
  {
   "cell_type": "markdown",
   "metadata": {},
   "source": [
    "将每个注释转换成语音"
   ]
  },
  {
   "cell_type": "code",
   "execution_count": 4,
   "metadata": {},
   "outputs": [],
   "source": [
    "def get_notes_voice(notes_dict):\n",
    "    voice_dict={}\n",
    "    for index, text in notes_dict.items():\n",
    "        voice_dict[index]=tts(text)\n",
    "    return voice_dict"
   ]
  },
  {
   "cell_type": "markdown",
   "metadata": {},
   "source": [
    "将语音分别保存为音频mp3"
   ]
  },
  {
   "cell_type": "code",
   "execution_count": 5,
   "metadata": {},
   "outputs": [],
   "source": [
    "if __name__==\"__main__\":\n",
    "\n",
    "    notes_dict=get_notes_text(ppt_filename)\n",
    "    voice_dict=get_notes_voice(notes_dict)"
   ]
  },
  {
   "cell_type": "code",
   "execution_count": 6,
   "metadata": {},
   "outputs": [],
   "source": [
    "def save_notes_voice(voice_dict,images_path):\n",
    "    temp_file_dict={}\n",
    "    for index, voice_data in voice_dict.items():\n",
    "        temp_filename=os.path.join(images_path,\"temp_{:03d}.mp3\".format(index))\n",
    "        with open(temp_filename, 'wb') as outfile:\n",
    "            outfile.write(voice_data)\n",
    "#             print(\"save \", temp_filename)\n",
    "        temp_file_dict[index]=temp_filename\n",
    "    return temp_file_dict"
   ]
  },
  {
   "cell_type": "markdown",
   "metadata": {},
   "source": [
    "将每页导出成图像, 然后把每张图像与每个音频做成一个视频"
   ]
  },
  {
   "cell_type": "code",
   "execution_count": 7,
   "metadata": {},
   "outputs": [],
   "source": [
    "def build_slide_video(images_path):\n",
    "    image_filename_list = [f for f in os.listdir(images_path) if f.endswith('.png')]\n",
    "    audio_filename_list = save_notes_voice(voice_dict,images_path)\n",
    "    video_filename_list = [\"slide_{:03d}.mp4\".format(index)\n",
    "                           for index in range(len(image_filename_list))]\n",
    "    for filename in image_filename_list:\n",
    "        (prefix, index_str,ends)=re.findall(\"([\\u4e00-\\u9fa5A-Z]+)(\\d+)(.png)\",filename)[0]\n",
    "        index=int(index_str)-1 # 注意python从0开始, ppt导出图片从1开始\n",
    "\n",
    "        image_filename=os.path.join(images_path,filename)\n",
    "        audio_filename=audio_filename_list[index]\n",
    "        video_filename=os.path.join(images_path,video_filename_list[index])\n",
    "\n",
    "        ffmpeg_str=\"ffmpeg -loop 1 -i {} -i {} -c:v libx264 -c:a copy -shortest {}\".format(\n",
    "            image_filename,audio_filename,video_filename\n",
    "        )\n",
    "        subprocess.call([\"ffmpeg\", \"-loop\", \"1\", \n",
    "                         \"-i\", image_filename,\n",
    "                         \"-i\", audio_filename,\n",
    "                         \"-c:v\", \"libx264\", \"-c:a\", \"copy\", \"-shortest\",\n",
    "                         video_filename])\n",
    "#         print(\"save \", video_filename )\n",
    "    # 记录产生的文件名\n",
    "    video_list=os.path.join(images_path,\"video_file_list.txt\")\n",
    "    with open(video_list, \"w\") as f:\n",
    "        for v in video_filename_list:\n",
    "            f.write(\"file \"+\"'{}'\\n\".format(v)) # 注意ffmpeg在从txt里调用文件名时, 似乎是用了相对路径\n",
    "    \n",
    "    return video_list"
   ]
  },
  {
   "cell_type": "markdown",
   "metadata": {},
   "source": [
    "把所有视频连起来"
   ]
  },
  {
   "cell_type": "code",
   "execution_count": 8,
   "metadata": {},
   "outputs": [],
   "source": [
    "def generate_slides_with_voice(ppt_filename):\n",
    "    images_path=ppt_filename.split(\".\")[0]\n",
    "    video_list=build_slide_video(images_path)\n",
    "    # ffmpeg -f concat -i mylist.txt -c copy output\n",
    "    subprocess.call([\"ffmpeg\", \"-f\", \"concat\",\n",
    "                     \"-i\", video_list,\n",
    "                     \"-c\", \"copy\",\n",
    "                     ppt_filename+\".mp4\"])"
   ]
  },
  {
   "cell_type": "code",
   "execution_count": 9,
   "metadata": {},
   "outputs": [
    {
     "ename": "NameError",
     "evalue": "name 'images_path' is not defined",
     "output_type": "error",
     "traceback": [
      "\u001b[0;31m---------------------------------------------------------------------------\u001b[0m",
      "\u001b[0;31mNameError\u001b[0m                                 Traceback (most recent call last)",
      "\u001b[0;32m<ipython-input-9-4ddc3280859d>\u001b[0m in \u001b[0;36m<module>\u001b[0;34m()\u001b[0m\n\u001b[1;32m      1\u001b[0m \u001b[0;32mif\u001b[0m \u001b[0m__name__\u001b[0m\u001b[0;34m==\u001b[0m\u001b[0;34m\"__main__\"\u001b[0m\u001b[0;34m:\u001b[0m\u001b[0;34m\u001b[0m\u001b[0m\n\u001b[0;32m----> 2\u001b[0;31m     \u001b[0mgenerate_slides_with_voice\u001b[0m\u001b[0;34m(\u001b[0m\u001b[0mimages_path\u001b[0m\u001b[0;34m)\u001b[0m\u001b[0;34m\u001b[0m\u001b[0m\n\u001b[0m",
      "\u001b[0;31mNameError\u001b[0m: name 'images_path' is not defined"
     ]
    }
   ],
   "source": [
    "if __name__==\"__main__\":\n",
    "    generate_slides_with_voice(ppt_filename)"
   ]
  }
 ],
 "metadata": {
  "kernelspec": {
   "display_name": "Python 3",
   "language": "python",
   "name": "python3"
  },
  "language_info": {
   "codemirror_mode": {
    "name": "ipython",
    "version": 3
   },
   "file_extension": ".py",
   "mimetype": "text/x-python",
   "name": "python",
   "nbconvert_exporter": "python",
   "pygments_lexer": "ipython3",
   "version": "3.5.6"
  }
 },
 "nbformat": 4,
 "nbformat_minor": 2
}
