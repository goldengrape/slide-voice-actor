{
 "cells": [
  {
   "cell_type": "markdown",
   "metadata": {},
   "source": [
    "还是不甘心, 想自动加入音频试试"
   ]
  },
  {
   "cell_type": "code",
   "execution_count": 1,
   "metadata": {},
   "outputs": [],
   "source": [
    "from pptx import Presentation\n",
    "from generate_voice import tts\n",
    "import os,sys\n",
    "import re\n",
    "import subprocess\n",
    "from pptx.util import Inches\n",
    "\n",
    "from add_voice import get_notes_text, get_notes_voice, save_notes_voice"
   ]
  },
  {
   "cell_type": "code",
   "execution_count": 2,
   "metadata": {},
   "outputs": [],
   "source": [
    "ppt_filename=\"data/test.pptx\""
   ]
  },
  {
   "cell_type": "code",
   "execution_count": 3,
   "metadata": {},
   "outputs": [],
   "source": [
    "ppt_path=os.path.dirname(ppt_filename)\n",
    "temp_path=os.path.join(ppt_path, \"temp\")\n",
    "try:\n",
    "    os.mkdir(temp_path)\n",
    "except:\n",
    "    pass\n",
    "\n",
    "notes_text=get_notes_text(ppt_filename)\n",
    "notes_voice=get_notes_voice(notes_text)\n",
    "movie_list=save_notes_voice(notes_voice, temp_path)"
   ]
  },
  {
   "cell_type": "code",
   "execution_count": 4,
   "metadata": {},
   "outputs": [],
   "source": [
    "prs = Presentation(ppt_filename)\n",
    "left = top = Inches(0.0)\n",
    "width = height = Inches(1.0)\n",
    "\n",
    "for index, slide in enumerate(prs.slides):\n",
    "    notes_slide = slide.notes_slide\n",
    "    shapes = slide.shapes\n",
    "    movie = shapes.add_movie(movie_list[index], \n",
    "                             left , top , width , height, \n",
    "                             poster_frame_image=None, \n",
    "                             mime_type='video/unknown')\n",
    "\n",
    "prs.save(os.path.join(ppt_path, \"output.pptx\"))"
   ]
  },
  {
   "cell_type": "code",
   "execution_count": 5,
   "metadata": {},
   "outputs": [],
   "source": [
    "# for file in movie_list.values():\n",
    "#     os.remove(file)\n",
    "# os.rmdir(temp_path)"
   ]
  },
  {
   "cell_type": "code",
   "execution_count": null,
   "metadata": {},
   "outputs": [],
   "source": []
  }
 ],
 "metadata": {
  "kernelspec": {
   "display_name": "Python 3",
   "language": "python",
   "name": "python3"
  },
  "language_info": {
   "codemirror_mode": {
    "name": "ipython",
    "version": 3
   },
   "file_extension": ".py",
   "mimetype": "text/x-python",
   "name": "python",
   "nbconvert_exporter": "python",
   "pygments_lexer": "ipython3",
   "version": "3.5.6"
  }
 },
 "nbformat": 4,
 "nbformat_minor": 2
}
