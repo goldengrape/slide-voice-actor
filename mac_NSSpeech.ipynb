{
 "cells": [
  {
   "cell_type": "code",
   "execution_count": 1,
   "metadata": {},
   "outputs": [],
   "source": [
    "from  AppKit import NSSpeechSynthesizer\n",
    "import sys\n",
    "import Foundation\n",
    "import os\n",
    "import subprocess"
   ]
  },
  {
   "cell_type": "code",
   "execution_count": 2,
   "metadata": {},
   "outputs": [],
   "source": [
    "if __name__ == \"__main__\":\n",
    "    OUTPUT_FILE = \"data/tts_test.aiff\"    # 输出音频的保存路径，请根据自己的情况替换\n",
    "    txt_file=\"data/test.txt\"\n",
    "    with open(txt_file, \"r\") as txt_file:  \n",
    "        TEXT = txt_file.read()"
   ]
  },
  {
   "cell_type": "code",
   "execution_count": 3,
   "metadata": {},
   "outputs": [],
   "source": [
    "def tts(TEXT):\n",
    "    nssp = NSSpeechSynthesizer\n",
    "    ve = nssp.alloc().init()\n",
    "    ve.setRate_(200)\n",
    "    return ve\n",
    "\n",
    "def save_tts(TEXT, filename):\n",
    "    url = Foundation.NSURL.fileURLWithPath_(filename)\n",
    "    tts(TEXT).startSpeakingString_toURL_(TEXT,url)\n",
    "    return filename\n",
    "\n",
    "# def save_short_tts(TEXT, filename):\n",
    "#     url = Foundation.NSURL.fileURLWithPath_(filename)\n",
    "#     tts(TEXT).startSpeakingString_toURL_(TEXT,url)\n",
    "#     return filename\n",
    "    \n",
    "\n",
    "# def save_tts(TEXT, filename):\n",
    "#     max_length=5000\n",
    "    \n",
    "#     split_TEXT_list=[TEXT[i:i+max_length] for i in range(0, len(TEXT), max_length)]\n",
    "#     fname_list=[]\n",
    "#     for index, t in enumerate(split_TEXT_list):\n",
    "#         split_fname=\"tts_temp_{:03d}.aiff\".format(index)\n",
    "#         save_short_tts(t, split_fname)\n",
    "#         fname_list.append(split_fname)\n",
    "        \n",
    "#     #ffmpeg -i \"concat:input1.ts|input2.ts|input3.ts\" -c copy output.ts\n",
    "#     with open(\"tts_tmp_list.txt\", \"w\") as f:\n",
    "#         for v in fname_list:\n",
    "#             f.write(\"file \"+\"'{}'\\n\".format(v)) # 注意ffmpeg在从txt里调用文件名时, 似乎是用了相对路径  \n",
    "#     subprocess.call([\"ffmpeg\", \"-f\", \"concat\",\n",
    "#                      \"-i\", \"tts_tmp_list.txt\",\n",
    "#                      \"-c\", \"copy\",\n",
    "#                      filename])\n",
    "    \n",
    "# #     for f in fname_list:\n",
    "# #         os.remove(f)\n",
    "# #     os.remove(\"tts_tmp_list.txt\")\n",
    "    \n",
    "#     return filename"
   ]
  },
  {
   "cell_type": "code",
   "execution_count": 4,
   "metadata": {},
   "outputs": [],
   "source": [
    "if __name__==\"__main__\":\n",
    "    save_tts(TEXT, OUTPUT_FILE)"
   ]
  },
  {
   "cell_type": "code",
   "execution_count": 5,
   "metadata": {},
   "outputs": [],
   "source": [
    "# ! ffmpeg -f concat -i tts_tmp_list.txt -c copy data/tts_test.aiff"
   ]
  },
  {
   "cell_type": "code",
   "execution_count": null,
   "metadata": {},
   "outputs": [],
   "source": []
  }
 ],
 "metadata": {
  "kernelspec": {
   "display_name": "Python 3",
   "language": "python",
   "name": "python3"
  },
  "language_info": {
   "codemirror_mode": {
    "name": "ipython",
    "version": 3
   },
   "file_extension": ".py",
   "mimetype": "text/x-python",
   "name": "python",
   "nbconvert_exporter": "python",
   "pygments_lexer": "ipython3",
   "version": "3.5.6"
  }
 },
 "nbformat": 4,
 "nbformat_minor": 2
}
